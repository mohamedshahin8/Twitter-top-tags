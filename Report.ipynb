{
 "cells": [
  {
   "cell_type": "code",
   "execution_count": 56,
   "metadata": {
    "collapsed": false
   },
   "outputs": [],
   "source": [
    "from bs4 import BeautifulSoup\n",
    "import time\n",
    "from selenium import webdriver\n",
    "from selenium.webdriver.common.keys import Keys\n",
    "import pandas as pd\n",
    "\n",
    "driver = webdriver.Chrome('/home/shahin/Desktop/Scraping Projects/youtube/chromedriver')\n",
    "driver.maximize_window()\n",
    "driver.get(\"https://twitter.com/\")\n",
    "time.sleep(1)\n",
    "\n",
    "login_btn = driver.find_element_by_xpath('//*[@id=\"doc\"]/div/div[1]/div[1]/div[2]/div[2]/div/a[2]')\n",
    "login_btn.click()\n",
    "time.sleep(1)\n",
    "\n",
    "email = driver.find_element_by_xpath('//*[@id=\"page-container\"]/div/div[1]/form/fieldset/div[1]/input')\n",
    "email.send_keys(\"mohamedshahin228@gmail.com\")\n",
    "time.sleep(1)\n",
    "\n",
    "password = driver.find_element_by_xpath('//*[@id=\"page-container\"]/div/div[1]/form/fieldset/div[2]/input')\n",
    "password.send_keys(\"Sv01004107651\")\n",
    "\n",
    "login = driver.find_element_by_xpath('//*[@id=\"page-container\"]/div/div[1]/form/div[2]/button')\n",
    "login.click()\n",
    "time.sleep(2)\n",
    "\n",
    "search = driver.find_element_by_xpath('//*[@id=\"search-query\"]')\n",
    "search.send_keys(\"@bolbolism\")\n",
    "\n",
    "acc = driver.find_element_by_xpath('//*[@id=\"typeahead-item-0\"]')\n",
    "acc.click()\n",
    "time.sleep(3)\n",
    "\n",
    "btn = driver.find_element_by_xpath('//*[@id=\"page-container\"]/div[1]/div/div[2]/div/div/div[2]/div/div/ul/li[6]/div/div/div')\n",
    "btn.click()\n",
    "time.sleep(2)\n",
    "\n",
    "report = driver.find_element_by_xpath('//*[@id=\"page-container\"]/div[1]/div/div[2]/div/div/div[2]/div/div/ul/li[6]/div/div/div/div/ul/li[9]/button')\n",
    "report.click()\n",
    "\n"
   ]
  },
  {
   "cell_type": "code",
   "execution_count": 53,
   "metadata": {
    "collapsed": false
   },
   "outputs": [],
   "source": []
  },
  {
   "cell_type": "code",
   "execution_count": null,
   "metadata": {
    "collapsed": false
   },
   "outputs": [],
   "source": []
  },
  {
   "cell_type": "code",
   "execution_count": null,
   "metadata": {
    "collapsed": false
   },
   "outputs": [],
   "source": []
  },
  {
   "cell_type": "code",
   "execution_count": null,
   "metadata": {
    "collapsed": true
   },
   "outputs": [],
   "source": []
  }
 ],
 "metadata": {
  "kernelspec": {
   "display_name": "Python 3",
   "language": "python",
   "name": "python3"
  },
  "language_info": {
   "codemirror_mode": {
    "name": "ipython",
    "version": 3
   },
   "file_extension": ".py",
   "mimetype": "text/x-python",
   "name": "python",
   "nbconvert_exporter": "python",
   "pygments_lexer": "ipython3",
   "version": "3.6.0"
  }
 },
 "nbformat": 4,
 "nbformat_minor": 2
}
