{
 "cells": [
  {
   "cell_type": "code",
   "execution_count": 1,
   "metadata": {
    "collapsed": false
   },
   "outputs": [
    {
     "name": "stdout",
     "output_type": "stream",
     "text": [
      "Liverpool\n",
      "Napoli\n",
      "#العاصمه_الاداريه\n",
      "#AlAhly_bribed_CAF\n",
      "#الاخوان\n",
      "#صباح_الخميس\n",
      "#اتحاد_الكره\n",
      "#الحديده\n",
      "#hodeidah\n",
      "#CopaDeLaReina\n"
     ]
    }
   ],
   "source": [
    "from bs4 import BeautifulSoup\n",
    "import time\n",
    "from selenium import webdriver\n",
    "from selenium.webdriver.common.keys import Keys\n",
    "import pandas as pd\n",
    "\n",
    "driver = webdriver.Chrome('/home/shahin/Desktop/Scraping Projects/youtube/chromedriver')\n",
    "driver.maximize_window()\n",
    "driver.get(\"https://twitter.com/\")\n",
    "time.sleep(1)\n",
    "\n",
    "login_btn = driver.find_element_by_xpath('//*[@id=\"doc\"]/div/div[1]/div[1]/div[2]/div[2]/div/a[2]')\n",
    "login_btn.click()\n",
    "time.sleep(1)\n",
    "\n",
    "email = driver.find_element_by_xpath('//*[@id=\"page-container\"]/div/div[1]/form/fieldset/div[1]/input')\n",
    "email.send_keys(\"\")\n",
    "time.sleep(1)\n",
    "\n",
    "password = driver.find_element_by_xpath('//*[@id=\"page-container\"]/div/div[1]/form/fieldset/div[2]/input')\n",
    "password.send_keys(\"\")\n",
    "\n",
    "login = driver.find_element_by_xpath('//*[@id=\"page-container\"]/div/div[1]/form/div[2]/button')\n",
    "login.click()\n",
    "time.sleep(2)\n",
    "\n",
    "top_trend = driver.find_element_by_xpath('//*[@id=\"page-container\"]/div[1]/div[2]/div/div/div[2]/ul/li[1]/a')\n",
    "top_trend.click()\n",
    "\n",
    "soup = BeautifulSoup(driver.page_source , 'lxml')\n",
    "trends  = soup.find_all(\"span\" , attrs= {\"class\" : 'u-linkComplex-target trend-name'})\n",
    "for trend in trends:\n",
    "    print(trend.text)"
   ]
  },
  {
   "cell_type": "code",
   "execution_count": 24,
   "metadata": {
    "collapsed": false
   },
   "outputs": [],
   "source": []
  },
  {
   "cell_type": "code",
   "execution_count": 52,
   "metadata": {
    "collapsed": false
   },
   "outputs": [],
   "source": []
  },
  {
   "cell_type": "code",
   "execution_count": 53,
   "metadata": {
    "collapsed": false
   },
   "outputs": [],
   "source": []
  },
  {
   "cell_type": "code",
   "execution_count": 45,
   "metadata": {
    "collapsed": false
   },
   "outputs": [
    {
     "name": "stdout",
     "output_type": "stream",
     "text": [
      "اتحاد الكره\n",
      "#نيمار\n",
      "#هند_صبري\n",
      "#محمد_صلاح\n",
      "#السيسي\n",
      "تراب الماس\n",
      "التفاصيل الكامله\n",
      "#اثيوبيا\n",
      "#ريال_مدريد\n",
      "Kanepi\n"
     ]
    }
   ],
   "source": []
  },
  {
   "cell_type": "code",
   "execution_count": 2,
   "metadata": {
    "collapsed": false
   },
   "outputs": [
    {
     "ename": "KeyboardInterrupt",
     "evalue": "",
     "output_type": "error",
     "traceback": [
      "\u001b[0;31m---------------------------------------------------------------------------\u001b[0m",
      "\u001b[0;31mKeyboardInterrupt\u001b[0m                         Traceback (most recent call last)",
      "\u001b[0;32m<ipython-input-2-3624f7cb6153>\u001b[0m in \u001b[0;36m<module>\u001b[0;34m()\u001b[0m\n\u001b[1;32m      1\u001b[0m \u001b[0;32mwhile\u001b[0m \u001b[0;32mTrue\u001b[0m\u001b[0;34m:\u001b[0m\u001b[0;34m\u001b[0m\u001b[0m\n\u001b[1;32m      2\u001b[0m     \u001b[0mdriver\u001b[0m\u001b[0;34m.\u001b[0m\u001b[0mexecute_script\u001b[0m\u001b[0;34m(\u001b[0m\u001b[0;34m\"window.scrollTo(0, document.body.scrollHeight);\"\u001b[0m\u001b[0;34m)\u001b[0m\u001b[0;34m\u001b[0m\u001b[0m\n\u001b[0;32m----> 3\u001b[0;31m     \u001b[0mtime\u001b[0m\u001b[0;34m.\u001b[0m\u001b[0msleep\u001b[0m\u001b[0;34m(\u001b[0m\u001b[0;36m3\u001b[0m\u001b[0;34m)\u001b[0m\u001b[0;34m\u001b[0m\u001b[0m\n\u001b[0m",
      "\u001b[0;31mKeyboardInterrupt\u001b[0m: "
     ]
    }
   ],
   "source": [
    "while True:\n",
    "    driver.execute_script(\"window.scrollTo(0, document.body.scrollHeight);\")\n",
    "    time.sleep(3)"
   ]
  },
  {
   "cell_type": "code",
   "execution_count": null,
   "metadata": {
    "collapsed": true
   },
   "outputs": [],
   "source": []
  }
 ],
 "metadata": {
  "kernelspec": {
   "display_name": "Python 3",
   "language": "python",
   "name": "python3"
  },
  "language_info": {
   "codemirror_mode": {
    "name": "ipython",
    "version": 3
   },
   "file_extension": ".py",
   "mimetype": "text/x-python",
   "name": "python",
   "nbconvert_exporter": "python",
   "pygments_lexer": "ipython3",
   "version": "3.6.0"
  }
 },
 "nbformat": 4,
 "nbformat_minor": 2
}
